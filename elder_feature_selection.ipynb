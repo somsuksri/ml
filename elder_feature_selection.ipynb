{
 "metadata": {
  "language_info": {
   "codemirror_mode": {
    "name": "ipython",
    "version": 3
   },
   "file_extension": ".py",
   "mimetype": "text/x-python",
   "name": "python",
   "nbconvert_exporter": "python",
   "pygments_lexer": "ipython3",
   "version": "3.9.1"
  },
  "orig_nbformat": 2,
  "kernelspec": {
   "name": "python391jvsc74a57bd0984f93f98e6d61c98ecda3589874c8c94cf09ee97cc1c5055c5b778296dcd015",
   "display_name": "Python 3.9.1 64-bit ('base': conda)"
  }
 },
 "nbformat": 4,
 "nbformat_minor": 2,
 "cells": [
  {
   "cell_type": "code",
   "execution_count": 1,
   "metadata": {},
   "outputs": [],
   "source": [
    "import pandas as pd\n",
    "import seaborn as sns\n",
    "import numpy as np\n",
    "import matplotlib.pyplot as plt\n",
    "%matplotlib inline\n",
    "%config InlineBackend.figure_format = 'retina'"
   ]
  },
  {
   "cell_type": "code",
   "execution_count": 2,
   "metadata": {},
   "outputs": [
    {
     "output_type": "stream",
     "name": "stdout",
     "text": [
      "pandas  version: 1.2.4\nnumpy   version: 1.20.1\nseaborn version: 0.11.1\n"
     ]
    }
   ],
   "source": [
    "print(f'pandas  version: {pd.__version__}')\n",
    "print(f'numpy   version: {np.__version__}')\n",
    "print(f'seaborn version: {sns.__version__}')"
   ]
  },
  {
   "cell_type": "code",
   "execution_count": 3,
   "metadata": {},
   "outputs": [
    {
     "output_type": "execute_result",
     "data": {
      "text/plain": [
       "   code_id mapping_code  area_id      survey_name survey_date  \\\n",
       "0        1      01-0005        1  �����ѡ��  �ɹ���    4/1/2021   \n",
       "1        3      01-0018        1   �����ѡ�� �ɹ���   4/19/2021   \n",
       "2        4      01-0021        1     ����� �ح���ͧ   4/17/2021   \n",
       "3        5      01-0024        1     ����� �ح���ͧ   4/17/2021   \n",
       "4        6      01-0040        1   �����ѡ�� �ɹ���   4/19/2021   \n",
       "\n",
       "  survey_start_time survey_end_time  gender   birthday  age  ...  rice_water  \\\n",
       "0                12           12.45       1   9/8/1946   74  ...           0   \n",
       "1                10           10.35       0   9/5/1953   67  ...           0   \n",
       "2                11              12       1  1/19/1958   63  ...           0   \n",
       "3                13           13.45       1  10/9/1959   61  ...           0   \n",
       "4                14           14.35       1   3/5/1950   71  ...           0   \n",
       "\n",
       "   rice_dig  rice_keep  rice_motor  rice_sale  rice_drive  rice_motorcise  \\\n",
       "0         0          0           0          0           0               0   \n",
       "1         0          0           0          0           0               0   \n",
       "2         0          0           0          0           0               0   \n",
       "3         0          0           0          0           0               0   \n",
       "4         0          0           0          0           0               0   \n",
       "\n",
       "   rice_mobile  rice_6hrm  rice_sum  \n",
       "0            0          0         0  \n",
       "1            0          0         0  \n",
       "2            0          0         0  \n",
       "3            0          0         0  \n",
       "4            0          0         0  \n",
       "\n",
       "[5 rows x 258 columns]"
      ],
      "text/html": "<div>\n<style scoped>\n    .dataframe tbody tr th:only-of-type {\n        vertical-align: middle;\n    }\n\n    .dataframe tbody tr th {\n        vertical-align: top;\n    }\n\n    .dataframe thead th {\n        text-align: right;\n    }\n</style>\n<table border=\"1\" class=\"dataframe\">\n  <thead>\n    <tr style=\"text-align: right;\">\n      <th></th>\n      <th>code_id</th>\n      <th>mapping_code</th>\n      <th>area_id</th>\n      <th>survey_name</th>\n      <th>survey_date</th>\n      <th>survey_start_time</th>\n      <th>survey_end_time</th>\n      <th>gender</th>\n      <th>birthday</th>\n      <th>age</th>\n      <th>...</th>\n      <th>rice_water</th>\n      <th>rice_dig</th>\n      <th>rice_keep</th>\n      <th>rice_motor</th>\n      <th>rice_sale</th>\n      <th>rice_drive</th>\n      <th>rice_motorcise</th>\n      <th>rice_mobile</th>\n      <th>rice_6hrm</th>\n      <th>rice_sum</th>\n    </tr>\n  </thead>\n  <tbody>\n    <tr>\n      <th>0</th>\n      <td>1</td>\n      <td>01-0005</td>\n      <td>1</td>\n      <td>�����ѡ��  �ɹ���</td>\n      <td>4/1/2021</td>\n      <td>12</td>\n      <td>12.45</td>\n      <td>1</td>\n      <td>9/8/1946</td>\n      <td>74</td>\n      <td>...</td>\n      <td>0</td>\n      <td>0</td>\n      <td>0</td>\n      <td>0</td>\n      <td>0</td>\n      <td>0</td>\n      <td>0</td>\n      <td>0</td>\n      <td>0</td>\n      <td>0</td>\n    </tr>\n    <tr>\n      <th>1</th>\n      <td>3</td>\n      <td>01-0018</td>\n      <td>1</td>\n      <td>�����ѡ�� �ɹ���</td>\n      <td>4/19/2021</td>\n      <td>10</td>\n      <td>10.35</td>\n      <td>0</td>\n      <td>9/5/1953</td>\n      <td>67</td>\n      <td>...</td>\n      <td>0</td>\n      <td>0</td>\n      <td>0</td>\n      <td>0</td>\n      <td>0</td>\n      <td>0</td>\n      <td>0</td>\n      <td>0</td>\n      <td>0</td>\n      <td>0</td>\n    </tr>\n    <tr>\n      <th>2</th>\n      <td>4</td>\n      <td>01-0021</td>\n      <td>1</td>\n      <td>����� �ح���ͧ</td>\n      <td>4/17/2021</td>\n      <td>11</td>\n      <td>12</td>\n      <td>1</td>\n      <td>1/19/1958</td>\n      <td>63</td>\n      <td>...</td>\n      <td>0</td>\n      <td>0</td>\n      <td>0</td>\n      <td>0</td>\n      <td>0</td>\n      <td>0</td>\n      <td>0</td>\n      <td>0</td>\n      <td>0</td>\n      <td>0</td>\n    </tr>\n    <tr>\n      <th>3</th>\n      <td>5</td>\n      <td>01-0024</td>\n      <td>1</td>\n      <td>����� �ح���ͧ</td>\n      <td>4/17/2021</td>\n      <td>13</td>\n      <td>13.45</td>\n      <td>1</td>\n      <td>10/9/1959</td>\n      <td>61</td>\n      <td>...</td>\n      <td>0</td>\n      <td>0</td>\n      <td>0</td>\n      <td>0</td>\n      <td>0</td>\n      <td>0</td>\n      <td>0</td>\n      <td>0</td>\n      <td>0</td>\n      <td>0</td>\n    </tr>\n    <tr>\n      <th>4</th>\n      <td>6</td>\n      <td>01-0040</td>\n      <td>1</td>\n      <td>�����ѡ�� �ɹ���</td>\n      <td>4/19/2021</td>\n      <td>14</td>\n      <td>14.35</td>\n      <td>1</td>\n      <td>3/5/1950</td>\n      <td>71</td>\n      <td>...</td>\n      <td>0</td>\n      <td>0</td>\n      <td>0</td>\n      <td>0</td>\n      <td>0</td>\n      <td>0</td>\n      <td>0</td>\n      <td>0</td>\n      <td>0</td>\n      <td>0</td>\n    </tr>\n  </tbody>\n</table>\n<p>5 rows × 258 columns</p>\n</div>"
     },
     "metadata": {},
     "execution_count": 3
    }
   ],
   "source": [
    "#url='https://github.com/prasertcbs/basic-dataset/raw/master/diabetes.csv'\n",
    "#url='C:\\AppServ\\www\\ML\\Poom_new.csv.csv'\n",
    "url='C:\\AppServ\\www\\ML\\lasted.csv'\n",
    "\n",
    "df=pd.read_csv(url)\n",
    "df.head()"
   ]
  },
  {
   "cell_type": "code",
   "execution_count": 4,
   "metadata": {},
   "outputs": [
    {
     "output_type": "stream",
     "name": "stdout",
     "text": [
      "<class 'pandas.core.frame.DataFrame'>\nRangeIndex: 1245 entries, 0 to 1244\nColumns: 258 entries, code_id to rice_sum\ndtypes: float64(6), int64(211), object(41)\nmemory usage: 2.5+ MB\n"
     ]
    }
   ],
   "source": [
    "df.info()"
   ]
  },
  {
   "cell_type": "code",
   "execution_count": 5,
   "metadata": {},
   "outputs": [],
   "source": [
    "#sns.pairplot(df,\n",
    "#             kind='reg', \n",
    "#             plot_kws={'scatter_kws': {'alpha': 0.4}, \n",
    "#                       'line_kws': {'color': 'orange'}},\n",
    "#             diag_kws={'color': 'green', 'alpha':.2});"
   ]
  },
  {
   "cell_type": "code",
   "execution_count": 6,
   "metadata": {},
   "outputs": [],
   "source": [
    "import sklearn\n",
    "from sklearn.model_selection import train_test_split\n",
    "from sklearn.neighbors import KNeighborsClassifier\n",
    "from sklearn.linear_model import LogisticRegression\n",
    "from sklearn.linear_model import Perceptron\n",
    "from sklearn.naive_bayes import GaussianNB\n",
    "from sklearn.neural_network import MLPClassifier\n",
    "from sklearn.svm import SVC\n",
    "from sklearn.tree import DecisionTreeClassifier\n",
    "from sklearn.ensemble import GradientBoostingClassifier\n",
    "from sklearn.ensemble import RandomForestClassifier\n",
    "from sklearn.ensemble import BaggingClassifier\n",
    "from sklearn.ensemble import AdaBoostClassifier\n",
    "from sklearn.ensemble import ExtraTreesClassifier\n",
    "from sklearn.gaussian_process import GaussianProcessClassifier\n",
    "from sklearn import metrics"
   ]
  },
  {
   "cell_type": "code",
   "execution_count": 7,
   "metadata": {},
   "outputs": [
    {
     "output_type": "stream",
     "name": "stdout",
     "text": [
      "sklearn version: 0.24.1\n"
     ]
    }
   ],
   "source": [
    "print(f'sklearn version: {sklearn.__version__}')"
   ]
  },
  {
   "cell_type": "code",
   "execution_count": 8,
   "metadata": {},
   "outputs": [
    {
     "output_type": "execute_result",
     "data": {
      "text/plain": [
       "Index(['code_id', 'mapping_code', 'area_id', 'survey_name', 'survey_date',\n",
       "       'survey_start_time', 'survey_end_time', 'gender', 'birthday', 'age',\n",
       "       ...\n",
       "       'rice_water', 'rice_dig', 'rice_keep', 'rice_motor', 'rice_sale',\n",
       "       'rice_drive', 'rice_motorcise', 'rice_mobile', 'rice_6hrm', 'rice_sum'],\n",
       "      dtype='object', length=258)"
      ]
     },
     "metadata": {},
     "execution_count": 8
    }
   ],
   "source": [
    "df.columns"
   ]
  },
  {
   "cell_type": "code",
   "execution_count": 9,
   "metadata": {},
   "outputs": [
    {
     "output_type": "execute_result",
     "data": {
      "text/plain": [
       "RandomForestClassifier(n_estimators=250, random_state=7)"
      ]
     },
     "metadata": {},
     "execution_count": 9
    }
   ],
   "source": [
    "#model= DecisionTreeClassifier(random_state=7)\n",
    "model= RandomForestClassifier(n_estimators=250, random_state=7)\n",
    "\n",
    "#X=df[[ 'weight', 'height', 'waistline']]\n",
    "#X=df[[ 'weight', 'height', 'waistline','income_total','expend_avg','expend_health_year','work_week_hr','gender']]\t\t\n",
    "#X=df[[ 'weight', 'height', 'waistline','income_total','expend_avg','age','age_range','work_daytime','work_night','can_run','can_arm','can_shrink','can_see','machine_walk']]\t\t\n",
    "X=df[[\n",
    "'area_id',\n",
    "'gender',\n",
    "'age',\n",
    "'age_range',\n",
    "'weight',\n",
    "'height',\n",
    "'waistline',\n",
    "'member_total',\n",
    "'member_earn_money',\n",
    "'member_takecare',\n",
    "'education',\n",
    "'marital_status',\n",
    "'residential',\n",
    "'house_live',\n",
    "'house_belong',\n",
    "'bedroom',\n",
    "'income_total',\n",
    "'expend_avg',\n",
    "'expend_health_year',\n",
    "'income_enough',\n",
    "'career_flag',\n",
    "'income_main_total',\n",
    "'income_amt',\n",
    "'income_detail',\n",
    "'work_week_hr',\n",
    "'distant_km',\n",
    "'distant_m',\n",
    "'duration_hr',\n",
    "'duration_min',\n",
    "'work_place',\n",
    "'accident',\n",
    "'need_job',\n",
    "'need_job_hr',\n",
    "'wages_flag',\n",
    "'wages_expect',\n",
    "'expect_job_hr',\n",
    "'expect_wages_hr_type',\n",
    "'expect_wages_hr',\n",
    "'can_work',\n",
    "'can_travel_self',\n",
    "'work_daytime',\n",
    "'work_night',\n",
    "'can_run',\n",
    "'can_arm',\n",
    "'can_shrink',\n",
    "'can_see',\n",
    "'sts_sleep',\n",
    "'sts_concentration',\n",
    "'sts_edgy',\n",
    "'sts_bored',\n",
    "'sts_introvert',\n",
    "'sum_sts',\n",
    "'sts_group',\n",
    "'fall_times',\n",
    "'machine_walk',\n",
    "'sum_tmse',\n",
    "'tmse_group',\n",
    "'pain_neck',\n",
    "'pain_shoulder',\n",
    "'pain_scapula',\n",
    "'pain_elbow',\n",
    "'pain_hand',\n",
    "'pain_back',\n",
    "'pain_hip',\n",
    "'pain_knee',\n",
    "'pain_foot',\n",
    "'health_neck',\n",
    "'health_back',\n",
    "'health_muscle',\n",
    "'health_move',\n",
    "'health_sit',\n",
    "'health_stand',\n",
    "'health_bow',\n",
    "'health_squatting',\n",
    "'health_kneel',\n",
    "'health_heavy',\n",
    "'health_lifting',\n",
    "'health_catch',\n",
    "'health_think',\n",
    "'health_hearing',\n",
    "'health_hand',\n",
    "'health_skin']]\n",
    "#'work_skill',\n",
    "#'work_body',\n",
    "#'work_think',\n",
    "#'work_effect',\n",
    "#'work_leave',\n",
    "#'work_2yrs',\n",
    "#'feel_fun',\n",
    "#'feel_active',\n",
    "#'feel_hope',\n",
    "#'disease']]   \n",
    "\n",
    "#X=df[['disease_detail_1','disease_detail_2','disease_detail_3','disease_detail_4','disease_detail_5','disease_detail_6','disease_detail_7','disease_detail_8','disease_detail_9','disease_detail_10','disease_detail_11','pain_neck','pain_shoulder','pain_scapula','pain_elbow','pain_hand','pain_back','pain_hip','pain_knee','pain_foot']]\n",
    "\n",
    "#X=df[['pain_neck','pain_shoulder','pain_scapula','pain_elbow','pain_hand','pain_back','pain_hip','pain_knee','pain_foot']]\n",
    "\n",
    "#X=df[['income_total','income_source_score','expend_avg','expend_health_year','income_enough','career_flag','income_main_total','work_week_hr','accident','need_job','need_job_hr','wages_flag','wages_expect']]\n",
    "\n",
    "X=df[['income_total','expend_avg','income_main_total','expend_health_year','work_week_hr','pain_back','pain_knee','pain_hip','pain_neck','pain_shoulder','disease_detail_1','disease_detail_2','disease_detail_3','disease_detail_4','disease_detail_5','disease_detail_6','disease_detail_7','disease_detail_8','disease_detail_9','disease_detail_10','disease_detail_11','pain_neck','pain_shoulder','pain_scapula','pain_elbow','pain_hand','pain_back','pain_hip','pain_knee','pain_foot']]\n",
    "\n",
    "y=df['section4_group']\n",
    "#X=df[[ 'weight']]\t\t\n",
    "#y=df['sectio4_score']\n",
    "#y=df['gender']\n",
    "model.fit(X,y)"
   ]
  },
  {
   "cell_type": "code",
   "execution_count": 10,
   "metadata": {},
   "outputs": [
    {
     "output_type": "execute_result",
     "data": {
      "text/plain": [
       "array([0.16171004, 0.14084835, 0.11666515, 0.0730703 , 0.08999532,\n",
       "       0.049479  , 0.04997473, 0.03779612, 0.03653052, 0.03705405,\n",
       "       0.04891524, 0.04652643, 0.03710189, 0.03755398, 0.03677887])"
      ]
     },
     "metadata": {},
     "execution_count": 10
    }
   ],
   "source": [
    "model.feature_importances_"
   ]
  },
  {
   "cell_type": "code",
   "execution_count": 11,
   "metadata": {},
   "outputs": [
    {
     "output_type": "execute_result",
     "data": {
      "text/plain": [
       "pain_neck             0.036531\n",
       "pain_shoulder         0.036779\n",
       "pain_shoulder         0.037054\n",
       "pain_hip              0.037102\n",
       "pain_neck             0.037554\n",
       "pain_hip              0.037796\n",
       "pain_knee             0.046526\n",
       "pain_back             0.048915\n",
       "pain_back             0.049479\n",
       "pain_knee             0.049975\n",
       "expend_health_year    0.073070\n",
       "work_week_hr          0.089995\n",
       "income_main_total     0.116665\n",
       "expend_avg            0.140848\n",
       "income_total          0.161710\n",
       "dtype: float64"
      ]
     },
     "metadata": {},
     "execution_count": 11
    }
   ],
   "source": [
    "fs=pd.Series(model.feature_importances_, index=X.columns).sort_values(ascending=True)\n",
    "fs"
   ]
  },
  {
   "cell_type": "code",
   "execution_count": 12,
   "metadata": {},
   "outputs": [
    {
     "output_type": "execute_result",
     "data": {
      "text/plain": [
       "1.0"
      ]
     },
     "metadata": {},
     "execution_count": 12
    }
   ],
   "source": [
    "fs.sum()"
   ]
  },
  {
   "cell_type": "code",
   "execution_count": 13,
   "metadata": {},
   "outputs": [
    {
     "output_type": "execute_result",
     "data": {
      "text/plain": [
       "<AxesSubplot:>"
      ]
     },
     "metadata": {},
     "execution_count": 13
    },
    {
     "output_type": "display_data",
     "data": {
      "text/plain": "<Figure size 432x288 with 1 Axes>",
      "image/png": "[encoded data removed]"
     },
     "metadata": {
      "image/png": {
       "width": 457,
       "height": 248
      },
      "needs_background": "light"
     }
    }
   ],
   "source": [
    "fs.plot(kind='barh')"
   ]
  },
  {
   "cell_type": "code",
   "execution_count": 14,
   "metadata": {},
   "outputs": [
    {
     "output_type": "execute_result",
     "data": {
      "text/plain": [
       "income_main_total    0.116665\n",
       "expend_avg           0.140848\n",
       "income_total         0.161710\n",
       "dtype: float64"
      ]
     },
     "metadata": {},
     "execution_count": 14
    }
   ],
   "source": [
    "fs[fs > .1]"
   ]
  },
  {
   "cell_type": "code",
   "execution_count": 15,
   "metadata": {},
   "outputs": [
    {
     "output_type": "execute_result",
     "data": {
      "text/plain": [
       "income_total          0.161710\n",
       "expend_avg            0.140848\n",
       "income_main_total     0.116665\n",
       "work_week_hr          0.089995\n",
       "expend_health_year    0.073070\n",
       "pain_knee             0.049975\n",
       "pain_back             0.049479\n",
       "pain_back             0.048915\n",
       "pain_knee             0.046526\n",
       "pain_hip              0.037796\n",
       "pain_neck             0.037554\n",
       "pain_hip              0.037102\n",
       "pain_shoulder         0.037054\n",
       "pain_shoulder         0.036779\n",
       "pain_neck             0.036531\n",
       "dtype: float64"
      ]
     },
     "metadata": {},
     "execution_count": 15
    }
   ],
   "source": [
    "fs.nlargest(50) #.index"
   ]
  },
  {
   "cell_type": "code",
   "execution_count": 16,
   "metadata": {},
   "outputs": [
    {
     "output_type": "execute_result",
     "data": {
      "text/plain": [
       "Index(['income_main_total', 'expend_avg', 'income_total'], dtype='object')"
      ]
     },
     "metadata": {},
     "execution_count": 16
    }
   ],
   "source": [
    "fs[fs > .1].index"
   ]
  },
  {
   "cell_type": "code",
   "execution_count": 17,
   "metadata": {},
   "outputs": [],
   "source": [
    "#X=df[fs[fs > .1].index]\n",
    "#X.head()"
   ]
  },
  {
   "cell_type": "code",
   "execution_count": 18,
   "metadata": {},
   "outputs": [],
   "source": [
    "#X=df[['weight', 'height', 'waistline','income_total','expend_avg','expend_health_year','work_week_hr','gender']]\n",
    "#X=df[['weight', 'height', 'waistline','income_total','expend_avg']]\n",
    "#X=df[['weight','income_total','expend_avg']]\n",
    "#X=df[['height','waistline']]\n",
    "# X=df[fs[fs > .1].index]\n",
    "#y=df['sectio4_score']\n",
    "#X=df[['income_total','expend_avg','age','sum_tmse','weight','waistline','income_main_total','height','education','sum_sts']]\n",
    "#d tree X=df[['income_total','expend_avg','age','sum_tmse','can_run','waistline','pain_knee','height','weight','work_week_hr']]\n",
    "\n",
    "#X=df[['sum_tmse','waistline','weight','pain_knee','pain_back','can_run','sum_sts','pain_hip','pain_shoulder','pain_neck','pain_scapula','can_travel_self','pain_elbow','sts_concentration','pain_foot','pain_hand','sts_sleep','sts_edgy','sts_bored','can_see']] #HEALTE\n",
    "\n",
    "#X=df[['income_total','expend_avg','income_main_total','income_amt','work_week_hr','expend_health_year','member_takecare','member_total','member_earn_money','duration_min','distant_km','income_enough','expect_job_hr','house_live','need_job_hr','bedroom']] #INCOME\n",
    "\n",
    "#X=df[['income_total','expend_avg','sum_tmse','waistline','weight','income_main_total','income_amt','pain_knee','pain_back','can_run','sum_sts','work_week_hr','expend_health_year','member_takecare','member_total','health_heavy','member_earn_money','pain_hip','health_lifting','duration_min','pain_shoulder','pain_neck','distant_km','income_enough','income_detail','expect_job_hr','pain_scapula','can_travel_self','pain_elbow','sts_concentration','house_live','pain_foot','pain_hand','sts_sleep','can_work','sts_edgy','sts_bored','health_think','health_stand','need_job_hr','health_muscle','bedroom','can_see']] #MIX\n",
    "\n",
    "#X=df[['disease_detail_1','disease_detail_12','disease_detail_5','disease_detail_9','disease_detail_2']]\n",
    "#y=df['section4_group']"
   ]
  },
  {
   "cell_type": "code",
   "execution_count": 19,
   "metadata": {},
   "outputs": [],
   "source": [
    "# use stratify to split train/test\n",
    "#X=df[[ 'mapping_code','height']]\n",
    "#X=df[['height','waistline']]\n",
    "test_size=.3\n",
    "X_train, X_test, y_train, y_test = train_test_split(X, y, \n",
    "                                                    test_size=test_size, \n",
    "                                                   # stratify=y,\n",
    "                                                    random_state=7)\n",
    "\n",
    "#print(X_train)\n",
    "#print(X_test)"
   ]
  },
  {
   "cell_type": "code",
   "execution_count": 20,
   "metadata": {
    "tags": []
   },
   "outputs": [
    {
     "output_type": "stream",
     "name": "stdout",
     "text": [
      "KNeighborsClassifier score: 0.3663\n",
      "[[29 17 15  1]\n",
      " [32 62 50  9]\n",
      " [16 47 44  6]\n",
      " [ 8 21 15  2]]\n",
      "              precision    recall  f1-score   support\n",
      "\n",
      "           1       0.34      0.47      0.39        62\n",
      "           2       0.42      0.41      0.41       153\n",
      "           3       0.35      0.39      0.37       113\n",
      "           4       0.11      0.04      0.06        46\n",
      "\n",
      "    accuracy                           0.37       374\n",
      "   macro avg       0.31      0.33      0.31       374\n",
      "weighted avg       0.35      0.37      0.35       374\n",
      "\n",
      "----------------------------------------------------------------------------------------------------\n",
      "C:\\Users\\somsuksri\\miniconda3\\lib\\site-packages\\sklearn\\linear_model\\_logistic.py:763: ConvergenceWarning: lbfgs failed to converge (status=1):\n",
      "STOP: TOTAL NO. of ITERATIONS REACHED LIMIT.\n",
      "\n",
      "Increase the number of iterations (max_iter) or scale the data as shown in:\n",
      "    https://scikit-learn.org/stable/modules/preprocessing.html\n",
      "Please also refer to the documentation for alternative solver options:\n",
      "    https://scikit-learn.org/stable/modules/linear_model.html#logistic-regression\n",
      "  n_iter_i = _check_optimize_result(\n",
      "C:\\Users\\somsuksri\\miniconda3\\lib\\site-packages\\sklearn\\metrics\\_classification.py:1245: UndefinedMetricWarning: Precision and F-score are ill-defined and being set to 0.0 in labels with no predicted samples. Use `zero_division` parameter to control this behavior.\n",
      "  _warn_prf(average, modifier, msg_start, len(result))\n",
      "C:\\Users\\somsuksri\\miniconda3\\lib\\site-packages\\sklearn\\metrics\\_classification.py:1245: UndefinedMetricWarning: Precision and F-score are ill-defined and being set to 0.0 in labels with no predicted samples. Use `zero_division` parameter to control this behavior.\n",
      "  _warn_prf(average, modifier, msg_start, len(result))\n",
      "C:\\Users\\somsuksri\\miniconda3\\lib\\site-packages\\sklearn\\metrics\\_classification.py:1245: UndefinedMetricWarning: Precision and F-score are ill-defined and being set to 0.0 in labels with no predicted samples. Use `zero_division` parameter to control this behavior.\n",
      "  _warn_prf(average, modifier, msg_start, len(result))\n",
      "C:\\Users\\somsuksri\\miniconda3\\lib\\site-packages\\sklearn\\metrics\\_classification.py:1245: UndefinedMetricWarning: Precision and F-score are ill-defined and being set to 0.0 in labels with no predicted samples. Use `zero_division` parameter to control this behavior.\n",
      "  _warn_prf(average, modifier, msg_start, len(result))\n",
      "C:\\Users\\somsuksri\\miniconda3\\lib\\site-packages\\sklearn\\metrics\\_classification.py:1245: UndefinedMetricWarning: Precision and F-score are ill-defined and being set to 0.0 in labels with no predicted samples. Use `zero_division` parameter to control this behavior.\n",
      "  _warn_prf(average, modifier, msg_start, len(result))\n",
      "C:\\Users\\somsuksri\\miniconda3\\lib\\site-packages\\sklearn\\metrics\\_classification.py:1245: UndefinedMetricWarning: Precision and F-score are ill-defined and being set to 0.0 in labels with no predicted samples. Use `zero_division` parameter to control this behavior.\n",
      "  _warn_prf(average, modifier, msg_start, len(result))\n",
      "LogisticRegression   score: 0.4786\n",
      "[[19 32 11  0]\n",
      " [11 97 45  0]\n",
      " [ 4 46 63  0]\n",
      " [ 1  7 38  0]]\n",
      "              precision    recall  f1-score   support\n",
      "\n",
      "           1       0.54      0.31      0.39        62\n",
      "           2       0.53      0.63      0.58       153\n",
      "           3       0.40      0.56      0.47       113\n",
      "           4       0.00      0.00      0.00        46\n",
      "\n",
      "    accuracy                           0.48       374\n",
      "   macro avg       0.37      0.37      0.36       374\n",
      "weighted avg       0.43      0.48      0.44       374\n",
      "\n",
      "----------------------------------------------------------------------------------------------------\n",
      "Perceptron           score: 0.3717\n",
      "[[ 0 41 21  0]\n",
      " [ 0 67 86  0]\n",
      " [ 0 41 72  0]\n",
      " [ 0 17 29  0]]\n",
      "              precision    recall  f1-score   support\n",
      "\n",
      "           1       0.00      0.00      0.00        62\n",
      "           2       0.40      0.44      0.42       153\n",
      "           3       0.35      0.64      0.45       113\n",
      "           4       0.00      0.00      0.00        46\n",
      "\n",
      "    accuracy                           0.37       374\n",
      "   macro avg       0.19      0.27      0.22       374\n",
      "weighted avg       0.27      0.37      0.31       374\n",
      "\n",
      "----------------------------------------------------------------------------------------------------\n",
      "DecisionTreeClassifier score: 0.3930\n",
      "[[22 27 12  1]\n",
      " [26 70 53  4]\n",
      " [20 36 43 14]\n",
      " [ 4 15 15 12]]\n",
      "              precision    recall  f1-score   support\n",
      "\n",
      "           1       0.31      0.35      0.33        62\n",
      "           2       0.47      0.46      0.47       153\n",
      "           3       0.35      0.38      0.36       113\n",
      "           4       0.39      0.26      0.31        46\n",
      "\n",
      "    accuracy                           0.39       374\n",
      "   macro avg       0.38      0.36      0.37       374\n",
      "weighted avg       0.40      0.39      0.39       374\n",
      "\n",
      "----------------------------------------------------------------------------------------------------\n",
      "GradientBoostingClassifier score: 0.4973\n",
      "[[30 26  6  0]\n",
      " [26 77 46  4]\n",
      " [10 33 63  7]\n",
      " [ 2  8 20 16]]\n",
      "              precision    recall  f1-score   support\n",
      "\n",
      "           1       0.44      0.48      0.46        62\n",
      "           2       0.53      0.50      0.52       153\n",
      "           3       0.47      0.56      0.51       113\n",
      "           4       0.59      0.35      0.44        46\n",
      "\n",
      "    accuracy                           0.50       374\n",
      "   macro avg       0.51      0.47      0.48       374\n",
      "weighted avg       0.51      0.50      0.50       374\n",
      "\n",
      "----------------------------------------------------------------------------------------------------\n",
      "RandomForestClassifier score: 0.4679\n",
      "[[23 27 11  1]\n",
      " [19 82 49  3]\n",
      " [ 8 45 54  6]\n",
      " [ 3 10 17 16]]\n",
      "              precision    recall  f1-score   support\n",
      "\n",
      "           1       0.43      0.37      0.40        62\n",
      "           2       0.50      0.54      0.52       153\n",
      "           3       0.41      0.48      0.44       113\n",
      "           4       0.62      0.35      0.44        46\n",
      "\n",
      "    accuracy                           0.47       374\n",
      "   macro avg       0.49      0.43      0.45       374\n",
      "weighted avg       0.48      0.47      0.47       374\n",
      "\n",
      "----------------------------------------------------------------------------------------------------\n",
      "BaggingClassifier    score: 0.4412\n",
      "[[24 29  7  2]\n",
      " [26 75 48  4]\n",
      " [18 38 52  5]\n",
      " [ 5  9 18 14]]\n",
      "              precision    recall  f1-score   support\n",
      "\n",
      "           1       0.33      0.39      0.36        62\n",
      "           2       0.50      0.49      0.49       153\n",
      "           3       0.42      0.46      0.44       113\n",
      "           4       0.56      0.30      0.39        46\n",
      "\n",
      "    accuracy                           0.44       374\n",
      "   macro avg       0.45      0.41      0.42       374\n",
      "weighted avg       0.45      0.44      0.44       374\n",
      "\n",
      "----------------------------------------------------------------------------------------------------\n",
      "AdaBoostClassifier   score: 0.4492\n",
      "[[28 23  9  2]\n",
      " [34 73 41  5]\n",
      " [12 32 55 14]\n",
      " [ 2  8 24 12]]\n",
      "              precision    recall  f1-score   support\n",
      "\n",
      "           1       0.37      0.45      0.41        62\n",
      "           2       0.54      0.48      0.51       153\n",
      "           3       0.43      0.49      0.45       113\n",
      "           4       0.36      0.26      0.30        46\n",
      "\n",
      "    accuracy                           0.45       374\n",
      "   macro avg       0.42      0.42      0.42       374\n",
      "weighted avg       0.45      0.45      0.45       374\n",
      "\n",
      "----------------------------------------------------------------------------------------------------\n",
      "GaussianNB           score: 0.2941\n",
      "[[38  8  1 15]\n",
      " [63 28  4 58]\n",
      " [27 14  9 63]\n",
      " [ 4  3  4 35]]\n",
      "              precision    recall  f1-score   support\n",
      "\n",
      "           1       0.29      0.61      0.39        62\n",
      "           2       0.53      0.18      0.27       153\n",
      "           3       0.50      0.08      0.14       113\n",
      "           4       0.20      0.76      0.32        46\n",
      "\n",
      "    accuracy                           0.29       374\n",
      "   macro avg       0.38      0.41      0.28       374\n",
      "weighted avg       0.44      0.29      0.26       374\n",
      "\n",
      "----------------------------------------------------------------------------------------------------\n",
      "MLPClassifier        score: 0.4412\n",
      "[[ 26  35   0   1]\n",
      " [ 24 118   2   9]\n",
      " [ 19  70  11  13]\n",
      " [  4  31   1  10]]\n",
      "              precision    recall  f1-score   support\n",
      "\n",
      "           1       0.36      0.42      0.39        62\n",
      "           2       0.46      0.77      0.58       153\n",
      "           3       0.79      0.10      0.17       113\n",
      "           4       0.30      0.22      0.25        46\n",
      "\n",
      "    accuracy                           0.44       374\n",
      "   macro avg       0.48      0.38      0.35       374\n",
      "weighted avg       0.52      0.44      0.38       374\n",
      "\n",
      "----------------------------------------------------------------------------------------------------\n",
      "GaussianProcessClassifier score: 0.1310\n",
      "[[  1   0   1  60]\n",
      " [  1   1   0 151]\n",
      " [  0   1   1 111]\n",
      " [  0   0   0  46]]\n",
      "              precision    recall  f1-score   support\n",
      "\n",
      "           1       0.50      0.02      0.03        62\n",
      "           2       0.50      0.01      0.01       153\n",
      "           3       0.50      0.01      0.02       113\n",
      "           4       0.12      1.00      0.22        46\n",
      "\n",
      "    accuracy                           0.13       374\n",
      "   macro avg       0.41      0.26      0.07       374\n",
      "weighted avg       0.45      0.13      0.04       374\n",
      "\n",
      "----------------------------------------------------------------------------------------------------\n",
      "[[0.3663101604278075, 'KNeighborsClassifier'], [0.4786096256684492, 'LogisticRegression'], [0.3716577540106952, 'Perceptron'], [0.393048128342246, 'DecisionTreeClassifier'], [0.49732620320855614, 'GradientBoostingClassifier'], [0.4679144385026738, 'RandomForestClassifier'], [0.4411764705882353, 'BaggingClassifier'], [0.44919786096256686, 'AdaBoostClassifier'], [0.29411764705882354, 'GaussianNB'], [0.4411764705882353, 'MLPClassifier'], [0.13101604278074866, 'GaussianProcessClassifier']]\n",
      "best score = [0.49732620320855614, 'GradientBoostingClassifier']\n"
     ]
    }
   ],
   "source": [
    "algo=[\n",
    "    [KNeighborsClassifier(n_neighbors=5), 'KNeighborsClassifier'], \n",
    "    [LogisticRegression(solver='lbfgs'), 'LogisticRegression'], \n",
    "    [Perceptron(), 'Perceptron'],\n",
    "    [DecisionTreeClassifier(min_samples_split=10), 'DecisionTreeClassifier'],\n",
    "    [GradientBoostingClassifier(), 'GradientBoostingClassifier'],\n",
    "    [RandomForestClassifier(), 'RandomForestClassifier'],\n",
    "    [BaggingClassifier(), 'BaggingClassifier'],\n",
    "    [AdaBoostClassifier(), 'AdaBoostClassifier'],\n",
    "    [GaussianNB(), 'GaussianNB'],\n",
    "    [MLPClassifier(), 'MLPClassifier'],\n",
    "    #[SVC(kernel='linear'), 'SVC_linear'],\n",
    "    [GaussianProcessClassifier(), 'GaussianProcessClassifier']\n",
    "]\n",
    "model_scores=[]\n",
    "for a in algo:\n",
    "    model = a[0]\n",
    "    model.fit(X_train, y_train)\n",
    "    score=model.score(X_test, y_test)\n",
    "    model_scores.append([score, a[1]])\n",
    "    y_pred=model.predict(X_test)\n",
    "    print(f'{a[1]:20} score: {score:.04f}')\n",
    "    print(metrics.confusion_matrix(y_test, y_pred))\n",
    "    print(metrics.classification_report(y_test, y_pred))\n",
    "    print('-' * 100)\n",
    "\n",
    "print(model_scores)\n",
    "print(f'best score = {max(model_scores)}')    "
   ]
  },
  {
   "cell_type": "code",
   "execution_count": 21,
   "metadata": {},
   "outputs": [
    {
     "output_type": "execute_result",
     "data": {
      "text/plain": [
       "[[0.3663101604278075, 'KNeighborsClassifier'],\n",
       " [0.4786096256684492, 'LogisticRegression'],\n",
       " [0.3716577540106952, 'Perceptron'],\n",
       " [0.393048128342246, 'DecisionTreeClassifier'],\n",
       " [0.49732620320855614, 'GradientBoostingClassifier'],\n",
       " [0.4679144385026738, 'RandomForestClassifier'],\n",
       " [0.4411764705882353, 'BaggingClassifier'],\n",
       " [0.44919786096256686, 'AdaBoostClassifier'],\n",
       " [0.29411764705882354, 'GaussianNB'],\n",
       " [0.4411764705882353, 'MLPClassifier'],\n",
       " [0.13101604278074866, 'GaussianProcessClassifier']]"
      ]
     },
     "metadata": {},
     "execution_count": 21
    }
   ],
   "source": [
    "model_scores"
   ]
  },
  {
   "cell_type": "code",
   "execution_count": 22,
   "metadata": {},
   "outputs": [
    {
     "output_type": "execute_result",
     "data": {
      "text/plain": [
       "       score                  classifier\n",
       "4   0.497326  GradientBoostingClassifier\n",
       "1   0.478610          LogisticRegression\n",
       "5   0.467914      RandomForestClassifier\n",
       "7   0.449198          AdaBoostClassifier\n",
       "6   0.441176           BaggingClassifier\n",
       "9   0.441176               MLPClassifier\n",
       "3   0.393048      DecisionTreeClassifier\n",
       "2   0.371658                  Perceptron\n",
       "0   0.366310        KNeighborsClassifier\n",
       "8   0.294118                  GaussianNB\n",
       "10  0.131016   GaussianProcessClassifier"
      ],
      "text/html": "<div>\n<style scoped>\n    .dataframe tbody tr th:only-of-type {\n        vertical-align: middle;\n    }\n\n    .dataframe tbody tr th {\n        vertical-align: top;\n    }\n\n    .dataframe thead th {\n        text-align: right;\n    }\n</style>\n<table border=\"1\" class=\"dataframe\">\n  <thead>\n    <tr style=\"text-align: right;\">\n      <th></th>\n      <th>score</th>\n      <th>classifier</th>\n    </tr>\n  </thead>\n  <tbody>\n    <tr>\n      <th>4</th>\n      <td>0.497326</td>\n      <td>GradientBoostingClassifier</td>\n    </tr>\n    <tr>\n      <th>1</th>\n      <td>0.478610</td>\n      <td>LogisticRegression</td>\n    </tr>\n    <tr>\n      <th>5</th>\n      <td>0.467914</td>\n      <td>RandomForestClassifier</td>\n    </tr>\n    <tr>\n      <th>7</th>\n      <td>0.449198</td>\n      <td>AdaBoostClassifier</td>\n    </tr>\n    <tr>\n      <th>6</th>\n      <td>0.441176</td>\n      <td>BaggingClassifier</td>\n    </tr>\n    <tr>\n      <th>9</th>\n      <td>0.441176</td>\n      <td>MLPClassifier</td>\n    </tr>\n    <tr>\n      <th>3</th>\n      <td>0.393048</td>\n      <td>DecisionTreeClassifier</td>\n    </tr>\n    <tr>\n      <th>2</th>\n      <td>0.371658</td>\n      <td>Perceptron</td>\n    </tr>\n    <tr>\n      <th>0</th>\n      <td>0.366310</td>\n      <td>KNeighborsClassifier</td>\n    </tr>\n    <tr>\n      <th>8</th>\n      <td>0.294118</td>\n      <td>GaussianNB</td>\n    </tr>\n    <tr>\n      <th>10</th>\n      <td>0.131016</td>\n      <td>GaussianProcessClassifier</td>\n    </tr>\n  </tbody>\n</table>\n</div>"
     },
     "metadata": {},
     "execution_count": 22
    }
   ],
   "source": [
    "dscore=pd.DataFrame(model_scores, columns=['score', 'classifier'])\n",
    "dscore.sort_values('score', ascending=False)"
   ]
  },
  {
   "cell_type": "code",
   "execution_count": 23,
   "metadata": {},
   "outputs": [
    {
     "output_type": "execute_result",
     "data": {
      "text/plain": [
       "<Figure size 720x720 with 0 Axes>"
      ]
     },
     "metadata": {},
     "execution_count": 23
    },
    {
     "output_type": "display_data",
     "data": {
      "text/plain": "<Figure size 720x720 with 0 Axes>"
     },
     "metadata": {}
    }
   ],
   "source": [
    "\n",
    "#X=df[['height','weight','waistline']]\n",
    "X=df[['height','waistline']]\n",
    "# X=df[fs[fs > .1].index]\n",
    "y=df['gender']#get correlations of each features in dataset\n",
    "corrmat = df.corr()\n",
    "top_corr_features = corrmat.index\n",
    "plt.figure(figsize=(10,10))\n",
    "#plot heat map\n",
    "#g=sns.heatmap(df[top_corr_features].corr(),annot=True,cmap=\"RdYlGn\")\n"
   ]
  },
  {
   "cell_type": "code",
   "execution_count": null,
   "metadata": {},
   "outputs": [],
   "source": []
  }
 ]
}